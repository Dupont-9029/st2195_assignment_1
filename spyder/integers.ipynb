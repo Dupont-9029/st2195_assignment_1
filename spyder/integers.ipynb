{
 "cells": [
  {
   "cell_type": "markdown",
   "id": "3b9be38c-7c37-4781-93a5-39246d26b525",
   "metadata": {},
   "source": [
    "# A program to print integers from 1 to 10 in python"
   ]
  },
  {
   "cell_type": "code",
   "execution_count": 4,
   "id": "2ec62c16-3695-4019-9ad2-052c7439c2b9",
   "metadata": {},
   "outputs": [
    {
     "name": "stdout",
     "output_type": "stream",
     "text": [
      "1 2 3 4 5 6 7 8 9 10 "
     ]
    }
   ],
   "source": [
    "#Method using For Loop to print integers 1 to 10\n",
    "for a in range (1,11):\n",
    "    print(a, end=\" \")"
   ]
  },
  {
   "cell_type": "markdown",
   "id": "1848501e-63cb-498e-a2e4-a54daaece7d2",
   "metadata": {},
   "source": []
  }
 ],
 "metadata": {
  "kernelspec": {
   "display_name": "Python 3 (ipykernel)",
   "language": "python",
   "name": "python3"
  },
  "language_info": {
   "codemirror_mode": {
    "name": "ipython",
    "version": 3
   },
   "file_extension": ".py",
   "mimetype": "text/x-python",
   "name": "python",
   "nbconvert_exporter": "python",
   "pygments_lexer": "ipython3",
   "version": "3.12.4"
  }
 },
 "nbformat": 4,
 "nbformat_minor": 5
}
